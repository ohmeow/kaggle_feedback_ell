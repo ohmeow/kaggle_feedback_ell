{
 "cells": [
  {
   "cell_type": "code",
   "execution_count": null,
   "metadata": {},
   "outputs": [],
   "source": [
    "#| default_exp create_folds\n",
    "#| default_cls_lvl 3"
   ]
  },
  {
   "cell_type": "code",
   "execution_count": null,
   "metadata": {},
   "outputs": [],
   "source": [
    "#| hide\n",
    "%reload_ext autoreload\n",
    "%autoreload 2\n",
    "%matplotlib inline"
   ]
  },
  {
   "cell_type": "markdown",
   "metadata": {},
   "source": [
    "# create_folds\n",
    "\n",
    "> Useful utility methods across various development environments and use cases"
   ]
  },
  {
   "cell_type": "code",
   "execution_count": null,
   "metadata": {},
   "outputs": [],
   "source": [
    "#| export\n",
    "import argparse\n",
    "from pathlib import Path\n",
    "\n",
    "import pandas as pd\n",
    "from sklearn import model_selection\n",
    "from iterstrat.ml_stratifiers import MultilabelStratifiedKFold\n",
    "\n",
    "from kaggle_comp import utils, config, preprocessing\n",
    "from kaggle_comp.config import CFG\n"
   ]
  },
  {
   "cell_type": "code",
   "execution_count": null,
   "metadata": {},
   "outputs": [],
   "source": [
    "#| hide\n",
    "import pdb\n",
    "from fastcore.test import *\n"
   ]
  },
  {
   "cell_type": "markdown",
   "metadata": {},
   "source": [
    "## Create folds"
   ]
  },
  {
   "cell_type": "code",
   "execution_count": null,
   "metadata": {},
   "outputs": [],
   "source": [
    "#| export\n",
    "def build_folds(\n",
    "    n_folds: int = CFG.n_fold,\n",
    "    seed: int = CFG.random_seed,\n",
    "    subset: float =CFG.subset,\n",
    "    #strat_feat=CFG.strat_feat,\n",
    "    preprocess: str = CFG.preprocess,\n",
    "    save_file: bool = True,\n",
    "    return_file: bool = False,\n",
    "    ds: str = \"train\",\n",
    "    save_pre: bool = False,\n",
    "    return_pre: bool = True\n",
    "):\n",
    "    _, raw_data_path, clean_data_path, *_ = utils.get_paths()\n",
    "\n",
    "    train_df = pd.read_csv(raw_data_path / \"train.csv\")\n",
    "\n",
    "    target_cols = [x for x in train_df.columns if x not in ['text_id', 'full_text']]\n",
    "\n",
    "    train_df = preprocessing.preprocess_data(ds = ds, preprocess = preprocess, save_file = save_pre, return_file = return_pre)\n",
    "\n",
    "    train_df[\"k_fold\"] = -1\n",
    "\n",
    "    # shuffle dataset - optional subset for faster iteration\n",
    "    train_df = train_df.sample(frac=subset, random_state=seed).reset_index(drop=True)\n",
    "\n",
    "    skf = MultilabelStratifiedKFold(n_splits=5, shuffle=True, random_state=4321)\n",
    "\n",
    "    for fold, (_, val_index) in enumerate(skf.split(X = train_df, y = train_df[target_cols])):\n",
    "        train_df.loc[val_index, 'k_fold'] = fold\n",
    "    train_df['k_fold'] = train_df['k_fold'].astype(int)\n",
    "    \n",
    "    if save_file:\n",
    "        train_df.to_csv(config.TRAINING_FILE, index=False)\n",
    "\n",
    "    if return_file:\n",
    "        return train_df\n"
   ]
  },
  {
   "cell_type": "code",
   "execution_count": null,
   "metadata": {},
   "outputs": [
    {
     "data": {
      "text/plain": [
       "Path('../data/clean/train_folds.csv')"
      ]
     },
     "execution_count": null,
     "metadata": {},
     "output_type": "execute_result"
    }
   ],
   "source": [
    "config.TRAINING_FILE"
   ]
  },
  {
   "cell_type": "code",
   "execution_count": null,
   "metadata": {},
   "outputs": [],
   "source": [
    "if utils.run_env == \"local_nb\":\n",
    "    build_folds()\n"
   ]
  },
  {
   "cell_type": "code",
   "execution_count": null,
   "metadata": {},
   "outputs": [
    {
     "data": {
      "text/html": [
       "<div>\n",
       "<style scoped>\n",
       "    .dataframe tbody tr th:only-of-type {\n",
       "        vertical-align: middle;\n",
       "    }\n",
       "\n",
       "    .dataframe tbody tr th {\n",
       "        vertical-align: top;\n",
       "    }\n",
       "\n",
       "    .dataframe thead th {\n",
       "        text-align: right;\n",
       "    }\n",
       "</style>\n",
       "<table border=\"1\" class=\"dataframe\">\n",
       "  <thead>\n",
       "    <tr style=\"text-align: right;\">\n",
       "      <th></th>\n",
       "      <th>text_id</th>\n",
       "      <th>full_text</th>\n",
       "      <th>cohesion</th>\n",
       "      <th>syntax</th>\n",
       "      <th>vocabulary</th>\n",
       "      <th>phraseology</th>\n",
       "      <th>grammar</th>\n",
       "      <th>conventions</th>\n",
       "      <th>k_fold</th>\n",
       "    </tr>\n",
       "  </thead>\n",
       "  <tbody>\n",
       "    <tr>\n",
       "      <th>0</th>\n",
       "      <td>976E2E05C4EB</td>\n",
       "      <td>Some businesses only work 4 days in the week maybe to conserve energy or maybe to the employers can rest one more day. I think it is a good idea to extending the school day two hours to a four days school week, but one reason that I agree with this opinion is that the student could more time to do their homework and they could work too. The schools could save more energy if we go to school 4 days per week because we used a lot of energy during school day. Many students have babies they have to care them when they are out of school this option can be benefits for this students how have to b...</td>\n",
       "      <td>4.0</td>\n",
       "      <td>3.0</td>\n",
       "      <td>3.5</td>\n",
       "      <td>3.5</td>\n",
       "      <td>3.0</td>\n",
       "      <td>3.5</td>\n",
       "      <td>4</td>\n",
       "    </tr>\n",
       "  </tbody>\n",
       "</table>\n",
       "</div>"
      ],
      "text/plain": [
       "        text_id  \\\n",
       "0  976E2E05C4EB   \n",
       "\n",
       "                                                                                                                                                                                                                                                                                                                                                                                                                                                                                                                                                                                                                 full_text  \\\n",
       "0  Some businesses only work 4 days in the week maybe to conserve energy or maybe to the employers can rest one more day. I think it is a good idea to extending the school day two hours to a four days school week, but one reason that I agree with this opinion is that the student could more time to do their homework and they could work too. The schools could save more energy if we go to school 4 days per week because we used a lot of energy during school day. Many students have babies they have to care them when they are out of school this option can be benefits for this students how have to b...   \n",
       "\n",
       "   cohesion  syntax  vocabulary  phraseology  grammar  conventions  k_fold  \n",
       "0       4.0     3.0         3.5          3.5      3.0          3.5       4  "
      ]
     },
     "execution_count": null,
     "metadata": {},
     "output_type": "execute_result"
    }
   ],
   "source": [
    "check = pd.read_csv(config.TRAINING_FILE)\n",
    "check.head(1)"
   ]
  },
  {
   "cell_type": "code",
   "execution_count": null,
   "metadata": {},
   "outputs": [
    {
     "data": {
      "text/html": [
       "<div>\n",
       "<style scoped>\n",
       "    .dataframe tbody tr th:only-of-type {\n",
       "        vertical-align: middle;\n",
       "    }\n",
       "\n",
       "    .dataframe tbody tr th {\n",
       "        vertical-align: top;\n",
       "    }\n",
       "\n",
       "    .dataframe thead th {\n",
       "        text-align: right;\n",
       "    }\n",
       "</style>\n",
       "<table border=\"1\" class=\"dataframe\">\n",
       "  <thead>\n",
       "    <tr style=\"text-align: right;\">\n",
       "      <th></th>\n",
       "      <th>text_id</th>\n",
       "      <th>full_text</th>\n",
       "      <th>cohesion</th>\n",
       "      <th>syntax</th>\n",
       "      <th>vocabulary</th>\n",
       "      <th>phraseology</th>\n",
       "      <th>grammar</th>\n",
       "      <th>conventions</th>\n",
       "      <th>k_fold</th>\n",
       "    </tr>\n",
       "  </thead>\n",
       "  <tbody>\n",
       "    <tr>\n",
       "      <th>0</th>\n",
       "      <td>976E2E05C4EB</td>\n",
       "      <td>Some businesses only work 4 days in the week maybe to conserve energy or maybe to the employers can rest one more day. I think it is a good idea to extending the school day two hours to a four days school week, but one reason that I agree with this opinion is that the student could more time to do their homework and they could work too. The schools could save more energy if we go to school 4 days per week because we used a lot of energy during school day. Many students have babies they have to care them when they are out of school this option can be benefits for this students how have to b...</td>\n",
       "      <td>4.0</td>\n",
       "      <td>3.0</td>\n",
       "      <td>3.5</td>\n",
       "      <td>3.5</td>\n",
       "      <td>3.0</td>\n",
       "      <td>3.5</td>\n",
       "      <td>4</td>\n",
       "    </tr>\n",
       "  </tbody>\n",
       "</table>\n",
       "</div>"
      ],
      "text/plain": [
       "        text_id  \\\n",
       "0  976E2E05C4EB   \n",
       "\n",
       "                                                                                                                                                                                                                                                                                                                                                                                                                                                                                                                                                                                                                 full_text  \\\n",
       "0  Some businesses only work 4 days in the week maybe to conserve energy or maybe to the employers can rest one more day. I think it is a good idea to extending the school day two hours to a four days school week, but one reason that I agree with this opinion is that the student could more time to do their homework and they could work too. The schools could save more energy if we go to school 4 days per week because we used a lot of energy during school day. Many students have babies they have to care them when they are out of school this option can be benefits for this students how have to b...   \n",
       "\n",
       "   cohesion  syntax  vocabulary  phraseology  grammar  conventions  k_fold  \n",
       "0       4.0     3.0         3.5          3.5      3.0          3.5       4  "
      ]
     },
     "execution_count": null,
     "metadata": {},
     "output_type": "execute_result"
    }
   ],
   "source": [
    "check = build_folds(n_folds=5, seed=4321, subset=1.0, preprocess=\"basic\", save_file=False, return_file=True)\n",
    "check.head(1)"
   ]
  },
  {
   "cell_type": "code",
   "execution_count": null,
   "metadata": {},
   "outputs": [
    {
     "data": {
      "text/plain": [
       "4    783\n",
       "3    782\n",
       "2    782\n",
       "1    782\n",
       "0    782\n",
       "Name: k_fold, dtype: int64"
      ]
     },
     "execution_count": null,
     "metadata": {},
     "output_type": "execute_result"
    }
   ],
   "source": [
    "check.k_fold.value_counts()"
   ]
  },
  {
   "cell_type": "code",
   "execution_count": null,
   "metadata": {},
   "outputs": [],
   "source": [
    "#| export\n",
    "if __name__ == \"__main__\" and utils.run_env != \"local_nb\":\n",
    "    # instantiate argparser\n",
    "    parser = argparse.ArgumentParser()\n",
    "\n",
    "    # define args\n",
    "    parser.add_argument(\"--n_folds\", type=int, default=CFG.n_fold)\n",
    "    parser.add_argument(\"--seed\", type=int, default=CFG.random_seed)\n",
    "    parser.add_argument(\"--subset\", type=float, default=CFG.subset)\n",
    "    #parser.add_argument(\"--strat_feat\", type=str, default=CFG.strat_feat)\n",
    "    parser.add_argument(\"--preprocess\", type=str, default=CFG.preprocess)\n",
    "    args = parser.parse_args()\n",
    "\n",
    "    build_folds(\n",
    "        n_folds=args.n_folds,\n",
    "        seed=args.seed,\n",
    "        subset=args.subset,\n",
    "        #strat_feat=args.strat_feat,\n",
    "        preprocess=args.preprocess,\n",
    "        save_file=True,\n",
    "        return_file=False,\n",
    "    )\n"
   ]
  },
  {
   "cell_type": "markdown",
   "metadata": {},
   "source": [
    "## Export -"
   ]
  },
  {
   "cell_type": "code",
   "execution_count": null,
   "metadata": {},
   "outputs": [],
   "source": [
    "# | hide\n",
    "import nbdev\n",
    "\n",
    "nbdev.nbdev_export()"
   ]
  },
  {
   "cell_type": "code",
   "execution_count": null,
   "metadata": {},
   "outputs": [],
   "source": []
  }
 ],
 "metadata": {
  "kernelspec": {
   "display_name": "Python 3.9.13 ('kaggle_feedback_ell')",
   "language": "python",
   "name": "python3"
  }
 },
 "nbformat": 4,
 "nbformat_minor": 2
}
