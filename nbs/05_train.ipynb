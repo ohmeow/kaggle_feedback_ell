{
 "cells": [
  {
   "cell_type": "code",
   "execution_count": null,
   "metadata": {},
   "outputs": [],
   "source": [
    "# | default_exp train\n",
    "# | default_cls_lvl 3\n"
   ]
  },
  {
   "cell_type": "code",
   "execution_count": null,
   "metadata": {},
   "outputs": [],
   "source": [
    "#| hide\n",
    "%reload_ext autoreload\n",
    "%autoreload 2\n",
    "%matplotlib inline"
   ]
  },
  {
   "cell_type": "markdown",
   "metadata": {},
   "source": [
    "# train\n",
    "\n",
    "> TODO"
   ]
  },
  {
   "cell_type": "code",
   "execution_count": null,
   "metadata": {},
   "outputs": [
    {
     "name": "stdout",
     "output_type": "stream",
     "text": [
      "Better speed can be achieved with apex installed from https://www.github.com/nvidia/apex.\n"
     ]
    }
   ],
   "source": [
    "# | export\n",
    "import argparse, os\n",
    "from pathlib import Path\n",
    "import warnings\n",
    "\n",
    "import pandas as pd\n",
    "from transformers import logging\n",
    "\n",
    "from kaggle_comp import config, train_dispatcher, utils\n",
    "from kaggle_comp.config import CFG\n",
    "\n",
    "# silence all the HF warnings\n",
    "warnings.simplefilter(\"ignore\")\n",
    "logging.set_verbosity_error()\n",
    "os.environ[\"TOKENIZERS_PARALLELISM\"] = \"false\"\n"
   ]
  },
  {
   "cell_type": "code",
   "execution_count": null,
   "metadata": {},
   "outputs": [],
   "source": [
    "# | hide_input\n",
    "import pdb\n",
    "from fastcore.test import *\n"
   ]
  },
  {
   "cell_type": "markdown",
   "metadata": {},
   "source": [
    "## Train a fold"
   ]
  },
  {
   "cell_type": "code",
   "execution_count": null,
   "metadata": {},
   "outputs": [],
   "source": [
    "# | export\n",
    "def run_fold(\n",
    "    CFG,\n",
    "    n_fold: int,\n",
    "    experiment_name: str,\n",
    "    run_id: str,\n",
    "    grid_id: str,\n",
    "    train_data=config.TRAINING_FILE,\n",
    "    verbose: bool = True,\n",
    "):\n",
    "\n",
    "    train_config = train_dispatcher.experiments[experiment_name]\n",
    "    model_name = f\"{experiment_name}_{run_id}_{grid_id}_fold_{n_fold}\"\n",
    "\n",
    "    comp_trainer_cls = train_config[\"comp_trainer_cls\"]\n",
    "    comp_trainer = comp_trainer_cls(\n",
    "        train_config=train_config, model_name=model_name, model_output_path=config.MODEL_OUTPUT, log_output_path=config.LOG_OUTPUT\n",
    "    )\n",
    "\n",
    "    if isinstance(train_data, pd.DataFrame):\n",
    "        train_df = train_data.copy()\n",
    "    else:\n",
    "        train_df = pd.read_csv(train_data)\n",
    "\n",
    "    train_df[\"is_valid\"] = train_df[\"k_fold\"] == n_fold\n",
    "\n",
    "    log_df, oof_df = comp_trainer.train(\n",
    "        CFG,\n",
    "        train_df,\n",
    "        n_fold=n_fold,\n",
    "        run_id=run_id,\n",
    "        grid_id=grid_id,\n",
    "        experiment_name=experiment_name,\n",
    "        verbose=verbose,\n",
    "    )\n",
    "\n",
    "    oof_preds = oof_df[[col for col in oof_df.columns if col.startswith(\"pred\")]].values\n",
    "    oof_targs = oof_df[[col for col in oof_df.columns if col.startswith(\"targ\")]].values\n",
    "\n",
    "    score = utils.comp_metric_score(oof_preds, oof_targs)\n",
    "\n",
    "    if verbose:\n",
    "        print(\"--- logging results ---\")\n",
    "\n",
    "    log_df.to_csv(Path(config.LOG_OUTPUT) / str(model_name + \".csv\"), index=False)\n",
    "    oof_df.to_csv(Path(config.LOG_OUTPUT) / str(\"oof_\" + model_name + \".csv\"), index=False)\n",
    "\n",
    "    if verbose:\n",
    "        print(f\"Fold={n_fold}, Score={score}\")\n"
   ]
  },
  {
   "cell_type": "code",
   "execution_count": null,
   "metadata": {},
   "outputs": [],
   "source": [
    "# | export\n",
    "if __name__ == \"__main__\" and utils.run_env != \"local_nb\":\n",
    "    # instantiate argparser\n",
    "    parser = argparse.ArgumentParser()\n",
    "\n",
    "    # define args\n",
    "    parser.add_argument(\"--experiment_name\", type=str)\n",
    "    parser.add_argument(\"--n_fold\", type=int, default=0)\n",
    "    parser.add_argument(\"--run_id\", type=str, default=\"dummy\")\n",
    "    parser.add_argument(\"--grid_id\", type=int, default=0)\n",
    "    parser.add_argument(\"--verbose\", type=str, default=True)\n",
    "\n",
    "    # read in args from terminal\n",
    "    args = parser.parse_args()\n",
    "\n",
    "    run_fold(\n",
    "        CFG=CFG,\n",
    "        n_fold=args.n_fold,\n",
    "        experiment_name=args.experiment_name,\n",
    "        run_id=args.run_id,\n",
    "        grid_id=args.grid_id,\n",
    "        train_data=config.TRAINING_FILE,\n",
    "        verbose=args.verbose,\n",
    "    )\n"
   ]
  },
  {
   "cell_type": "code",
   "execution_count": null,
   "metadata": {},
   "outputs": [],
   "source": [
    "class CFG:\n",
    "    subset = 1.0\n",
    "    n_fold = 5\n",
    "    fold = [0, 1]\n",
    "    random_seed = 42\n",
    "    preprocess = \"basic\"\n",
    "    postprocess = \"none\"\n",
    "    augment = \"none\"\n",
    "    train_folds = \"train_folds.csv\"\n",
    "    experiments = [\"blurr_deberta_v3_small\"]\n",
    "    grid_params = [\"experiments\", \"fold\"]\n",
    "\n",
    "    hf_config_kwargs = {\n",
    "       \"num_labels\": 6,\n",
    "        \"cls_dropout\": 0.1,  # default = hidden_dropout_prob\n",
    "        \"pooler_dropout\": 0.00,  # default = 0.0\n",
    "        \"hidden_dropout_prob\": 0.1,  # default = 0.1\n",
    "        \"attention_probs_dropout_prob\": 0.1,  # default = 0.1\n",
    "        \"layer_norm_eps\": 1e-7 # default = 1e-7\n",
    "    }\n",
    "\n",
    "    batch_size = 8\n",
    "    use_fp16 = True\n",
    "    adam_beta1 = 0.9\n",
    "    adam_beta2 = 0.999\n",
    "    adam_eps = 1e-5\n",
    "    weight_decay = 0.01\n",
    "    max_grad_norm = None  # default = 1.0,\n",
    "\n",
    "    n_unfrozen_epochs = 4\n",
    "    unfrozen_lrs = [1e-6, 5e-4] #default = [3e-6, 5e-5]\n"
   ]
  },
  {
   "cell_type": "code",
   "execution_count": null,
   "metadata": {},
   "outputs": [
    {
     "name": "stdout",
     "output_type": "stream",
     "text": [
      "Experiment: blurr_deberta_v3_large\n",
      "Run: 2022_01_01_01_01 | Grid ID: 0 | Fold: 0\n",
      "Training config: f{'comp_trainer_cls': <class 'kaggle_comp.framework_utils.fastai.FastaiCompTrainer'>, 'model_checkpoint': 'microsoft/deberta-v3-large', 'hf_config_kwargs': {'num_labels': 6, 'cls_dropout': 0.15, 'pooler_dropout': 0.0, 'hidden_dropout_prob': 0.1, 'attention_probs_dropout_prob': 0.1, 'layer_norm_eps': 1e-07}, 'hf_tokenizer_kwargs': {}, 'anchor_col': 'anchor', 'target_col': 'target', 'max_length': 512, 'include_labels': True, 'tok_kwargs': {}, 'batch_size': 8, 'adam_beta1': 0.9, 'adam_beta2': 0.999, 'adam_eps': 1e-06, 'weight_decay': 0.01, 'max_grad_norm': 1.0, 'save_best_model': True, 'use_fp16': True, 'n_frozen_epochs': 0, 'frozen_lr': None, 'n_unfrozen_epochs': 10, 'unfrozen_lrs': [1e-06, 2e-05]}\n",
      "Building HF objects ...\n",
      "Building DataLoaders ...\n",
      "b0 shape: torch.Size([8, 512]); b1 shape: torch.Size([8, 6])\n",
      "Building Learner ...\n"
     ]
    },
    {
     "data": {
      "text/html": [
       "\n",
       "<style>\n",
       "    /* Turns off some styling */\n",
       "    progress {\n",
       "        /* gets rid of default border in Firefox and Opera. */\n",
       "        border: none;\n",
       "        /* Needs to be in here for Safari polyfill so background images work as expected. */\n",
       "        background-size: auto;\n",
       "    }\n",
       "    progress:not([value]), progress:not([value])::-webkit-progress-bar {\n",
       "        background: repeating-linear-gradient(45deg, #7e7e7e, #7e7e7e 10px, #5c5c5c 10px, #5c5c5c 20px);\n",
       "    }\n",
       "    .progress-bar-interrupted, .progress-bar-interrupted::-webkit-progress-bar {\n",
       "        background: #F44336;\n",
       "    }\n",
       "</style>\n"
      ],
      "text/plain": [
       "<IPython.core.display.HTML object>"
      ]
     },
     "metadata": {},
     "output_type": "display_data"
    },
    {
     "data": {
      "text/html": [
       "<table border=\"1\" class=\"dataframe\">\n",
       "  <thead>\n",
       "    <tr style=\"text-align: left;\">\n",
       "      <th>epoch</th>\n",
       "      <th>train_loss</th>\n",
       "      <th>valid_loss</th>\n",
       "      <th>mcrmse</th>\n",
       "      <th>time</th>\n",
       "    </tr>\n",
       "  </thead>\n",
       "  <tbody>\n",
       "    <tr>\n",
       "      <td>0</td>\n",
       "      <td>0.522924</td>\n",
       "      <td>0.493651</td>\n",
       "      <td>0.507573</td>\n",
       "      <td>03:22</td>\n",
       "    </tr>\n",
       "    <tr>\n",
       "      <td>1</td>\n",
       "      <td>0.465757</td>\n",
       "      <td>0.474697</td>\n",
       "      <td>0.488732</td>\n",
       "      <td>03:22</td>\n",
       "    </tr>\n",
       "    <tr>\n",
       "      <td>2</td>\n",
       "      <td>0.434957</td>\n",
       "      <td>0.456236</td>\n",
       "      <td>0.469612</td>\n",
       "      <td>03:22</td>\n",
       "    </tr>\n",
       "    <tr>\n",
       "      <td>3</td>\n",
       "      <td>0.409501</td>\n",
       "      <td>0.479040</td>\n",
       "      <td>0.493536</td>\n",
       "      <td>03:22</td>\n",
       "    </tr>\n",
       "  </tbody>\n",
       "</table>"
      ],
      "text/plain": [
       "<IPython.core.display.HTML object>"
      ]
     },
     "metadata": {},
     "output_type": "display_data"
    },
    {
     "name": "stdout",
     "output_type": "stream",
     "text": [
      "Better model found at epoch 0 with mcrmse value: 0.5075727105140686.\n",
      "Better model found at epoch 1 with mcrmse value: 0.4887324869632721.\n",
      "Better model found at epoch 2 with mcrmse value: 0.46961212158203125.\n"
     ]
    },
    {
     "data": {
      "text/html": [
       "\n",
       "<style>\n",
       "    /* Turns off some styling */\n",
       "    progress {\n",
       "        /* gets rid of default border in Firefox and Opera. */\n",
       "        border: none;\n",
       "        /* Needs to be in here for Safari polyfill so background images work as expected. */\n",
       "        background-size: auto;\n",
       "    }\n",
       "    progress:not([value]), progress:not([value])::-webkit-progress-bar {\n",
       "        background: repeating-linear-gradient(45deg, #7e7e7e, #7e7e7e 10px, #5c5c5c 10px, #5c5c5c 20px);\n",
       "    }\n",
       "    .progress-bar-interrupted, .progress-bar-interrupted::-webkit-progress-bar {\n",
       "        background: #F44336;\n",
       "    }\n",
       "</style>\n"
      ],
      "text/plain": [
       "<IPython.core.display.HTML object>"
      ]
     },
     "metadata": {},
     "output_type": "display_data"
    },
    {
     "data": {
      "text/html": [],
      "text/plain": [
       "<IPython.core.display.HTML object>"
      ]
     },
     "metadata": {},
     "output_type": "display_data"
    },
    {
     "name": "stdout",
     "output_type": "stream",
     "text": [
      "--- saving model ---\n",
      "--- logging results ---\n",
      "Fold=0, Score=0.46961212158203125\n"
     ]
    }
   ],
   "source": [
    "# manual debugging check\n",
    "# run_fold(CFG=CFG, n_fold = 0, experiment_name = \"blurr_deberta_v3_small\", run_id = \"2022_01_01_01_01\", grid_id = 0)\n",
    "run_fold(CFG=CFG, n_fold=0, experiment_name=\"blurr_deberta_v3_large\", run_id=\"2022_01_01_01_01\", grid_id=0)\n"
   ]
  },
  {
   "cell_type": "markdown",
   "metadata": {},
   "source": [
    "## Export -"
   ]
  },
  {
   "cell_type": "code",
   "execution_count": null,
   "metadata": {},
   "outputs": [],
   "source": [
    "# | hide\n",
    "import nbdev\n",
    "\n",
    "nbdev.nbdev_export()\n"
   ]
  },
  {
   "cell_type": "code",
   "execution_count": null,
   "metadata": {},
   "outputs": [],
   "source": []
  }
 ],
 "metadata": {
  "kernelspec": {
   "display_name": "Python 3.9.13 ('kaggle_feedback_ell')",
   "language": "python",
   "name": "python3"
  }
 },
 "nbformat": 4,
 "nbformat_minor": 2
}
