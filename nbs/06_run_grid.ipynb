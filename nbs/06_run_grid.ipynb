{
 "cells": [
  {
   "cell_type": "code",
   "execution_count": null,
   "metadata": {},
   "outputs": [],
   "source": [
    "#| default_exp run_grid\n",
    "#| default_cls_lvl 3"
   ]
  },
  {
   "cell_type": "code",
   "execution_count": null,
   "metadata": {},
   "outputs": [],
   "source": [
    "#| hide\n",
    "%reload_ext autoreload\n",
    "%autoreload 2\n",
    "%matplotlib inline"
   ]
  },
  {
   "cell_type": "markdown",
   "metadata": {},
   "source": [
    "# run_grid\n",
    "\n",
    "Setup a multi-fold, multi-parameter experimentation grid via `config` and run `train` for all rows."
   ]
  },
  {
   "cell_type": "code",
   "execution_count": null,
   "metadata": {},
   "outputs": [],
   "source": [
    "#| export\n",
    "import argparse, os\n",
    "import warnings\n",
    "\n",
    "import pandas as pd\n",
    "from itertools import product\n",
    "\n",
    "from kaggle_comp import config, train_dispatcher, utils, train, create_folds, preprocessing\n",
    "\n",
    "\n",
    "# silence all the HF warnings\n",
    "warnings.simplefilter(\"ignore\")\n",
    "os.environ[\"TOKENIZERS_PARALLELISM\"] = \"false\"\n"
   ]
  },
  {
   "cell_type": "code",
   "execution_count": null,
   "metadata": {},
   "outputs": [],
   "source": [
    "#| hide_input\n",
    "import pdb\n",
    "from fastcore.test import *"
   ]
  },
  {
   "cell_type": "markdown",
   "metadata": {},
   "source": [
    "## Prepare the grid with a run_id for the current date & time"
   ]
  },
  {
   "cell_type": "code",
   "execution_count": null,
   "metadata": {},
   "outputs": [],
   "source": [
    "#| export\n",
    "def prep_grid(CFG=config.CFG):\n",
    "    grid_df = pd.DataFrame(list(product(*[getattr(CFG, x) for x in CFG.grid_params])), columns=CFG.grid_params)\n",
    "    grid_df[\"run_id\"] = config.get_run_id()\n",
    "    grid_df = grid_df.rename_axis(\"grid_id\").reset_index()\n",
    "\n",
    "    return grid_df"
   ]
  },
  {
   "cell_type": "code",
   "execution_count": null,
   "metadata": {},
   "outputs": [],
   "source": [
    "prep_grid()"
   ]
  },
  {
   "cell_type": "code",
   "execution_count": null,
   "metadata": {},
   "outputs": [],
   "source": [
    "grid_df = prep_grid()"
   ]
  },
  {
   "cell_type": "code",
   "execution_count": null,
   "metadata": {},
   "outputs": [],
   "source": [
    "type(grid_df.experiments[0])"
   ]
  },
  {
   "cell_type": "code",
   "execution_count": null,
   "metadata": {},
   "outputs": [],
   "source": [
    "#| export\n",
    "def run_grid(CFG=config.CFG):\n",
    "\n",
    "    grid_df = prep_grid(CFG)\n",
    "\n",
    "    print(\"This is the experimentation grid:\")\n",
    "    print(grid_df)\n",
    "    print(\"\")\n",
    "\n",
    "    print(\"Preprocessing and creating folds\")\n",
    "    print(\"\")\n",
    "    train_df = create_folds.build_folds(\n",
    "        n_folds=CFG.n_fold,\n",
    "        seed=CFG.random_seed,\n",
    "        subset=CFG.subset,\n",
    "        #strat_feat = CFG.strat_feat,\n",
    "        preprocess = CFG.preprocess,\n",
    "        return_file = True,\n",
    "        save_file = False\n",
    "        )\n",
    "\n",
    "    # def build_folds(\n",
    "    #     ds: str = \"train\",\n",
    "    #     save_pre: bool = False,\n",
    "    #     return_pre: bool = True\n",
    "    # ):\n",
    "\n",
    "    print(\"Training folds\")\n",
    "    print(\"\")\n",
    "    for i in range(len(grid_df)):\n",
    "\n",
    "\n",
    "        # print(f\"train.run_fold(n_fold = {grid_df.fold[i]}, experiment = '{grid_df.experiments[i]}', run_id = '{grid_df.run_id[i]}',\\\n",
    "        #     grid_id = {grid_df.grid_id[i]}, bs = {grid_df.bs[i]}, n_epoch = {grid_df.n_epoch[i]}, seed = {grid_df.random_seed[i]}, subset = {grid_df.subset[i]})\")\n",
    "\n",
    "        train.run_fold(\n",
    "            CFG=CFG,\n",
    "            n_fold=int(grid_df.fold[i]),\n",
    "            experiment_name=str(grid_df.experiments[i]),\n",
    "            run_id=str(grid_df.run_id[i]),\n",
    "            grid_id=int(grid_df.grid_id[i]),\n",
    "            train_data=train_df,\n",
    "        )\n"
   ]
  },
  {
   "cell_type": "code",
   "execution_count": null,
   "metadata": {},
   "outputs": [],
   "source": [
    "# manual debugging\n",
    "#train.run_fold(CFG = config.CFG, n_fold = 0, experiment_name = 'blurr_distilroberta_base', run_id = '2022_05_21_15_56', grid_id = 0)\n"
   ]
  },
  {
   "cell_type": "markdown",
   "metadata": {},
   "source": [
    "The CFG can be dynamically supplied at runtime:"
   ]
  },
  {
   "cell_type": "markdown",
   "metadata": {},
   "source": [
    "augment: \"none\", \"rev\", \"shuffle\", \"remove_word\""
   ]
  },
  {
   "cell_type": "code",
   "execution_count": null,
   "metadata": {},
   "outputs": [],
   "source": [
    "class CFG:\n",
    "    subset = 1.0\n",
    "    n_fold = 5\n",
    "    fold = [0, 1]\n",
    "    random_seed = 42\n",
    "    bs = 128\n",
    "    use_fp16 = True\n",
    "    n_unfrozen_epochs = 1\n",
    "    #strat_feat = \"section_scores\"\n",
    "    preprocess = \"basic\"\n",
    "    postprocess = \"none\"\n",
    "    augment = \"none\"\n",
    "    train_folds = \"train_folds.csv\"\n",
    "    experiments = ['blurr_deberta_v3_small']\n",
    "    grid_params = ['experiments', 'fold']\n"
   ]
  },
  {
   "cell_type": "code",
   "execution_count": null,
   "metadata": {},
   "outputs": [],
   "source": [
    "# manual debugging\n",
    "#run_grid(CFG)\n"
   ]
  },
  {
   "cell_type": "code",
   "execution_count": null,
   "metadata": {},
   "outputs": [],
   "source": [
    "#| export\n",
    "if __name__ == \"__main__\" and utils.run_env != \"local_nb\":\n",
    "    # instantiate argparser\n",
    "    parser = argparse.ArgumentParser()\n",
    "\n",
    "    # define args\n",
    "    parser.add_argument(\"--experiments\", help='experiments to run', type=lambda s: [str(item) for item in s.split(',')], default=config.CFG.experiments)\n",
    "    parser.add_argument(\"--subset\", type=float, default=config.CFG.subset)\n",
    "    #parser.add_argument(\"--strat_feat\", type=str, default=config.CFG.strat_feat)\n",
    "    parser.add_argument(\"--preprocess\", type=str, default=config.CFG.preprocess)\n",
    "    parser.add_argument(\"--n_folds\", type=int, default=config.CFG.n_fold)\n",
    "    parser.add_argument('--fold', help='folds to use', type=lambda s: [int(item) for item in s.split(',')], default=config.CFG.fold)\n",
    "    parser.add_argument(\"--seed\", type=int, default=config.CFG.random_seed)\n",
    "    \n",
    "    args = parser.parse_args()\n",
    "\n",
    "    config.CFG.experiments = args.experiments\n",
    "    config.CFG.subset = args.subset\n",
    "    #config.CFG.strat_feat = args.strat_feat\n",
    "    config.CFG.preprocess = args.preprocess\n",
    "    config.CFG.n_fold = args.n_folds\n",
    "    config.CFG.fold = args.fold\n",
    "    config.CFG.random_seed = args.seed\n",
    "\n",
    "    run_grid(config.CFG)\n"
   ]
  },
  {
   "cell_type": "markdown",
   "metadata": {},
   "source": [
    "## Export -"
   ]
  },
  {
   "cell_type": "code",
   "execution_count": null,
   "metadata": {},
   "outputs": [],
   "source": [
    "#| hide\n",
    "import nbdev\n",
    "\n",
    "nbdev.nbdev_export()"
   ]
  },
  {
   "cell_type": "code",
   "execution_count": null,
   "metadata": {},
   "outputs": [],
   "source": []
  }
 ],
 "metadata": {
  "kernelspec": {
   "display_name": "Python 3.9.13 ('kaggle_feedback_ell')",
   "language": "python",
   "name": "python3"
  }
 },
 "nbformat": 4,
 "nbformat_minor": 2
}
