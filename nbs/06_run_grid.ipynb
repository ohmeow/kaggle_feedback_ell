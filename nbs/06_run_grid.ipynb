{
 "cells": [
  {
   "cell_type": "code",
   "execution_count": 1,
   "metadata": {},
   "outputs": [],
   "source": [
    "#| default_exp run_grid\n",
    "#| default_cls_lvl 3"
   ]
  },
  {
   "cell_type": "code",
   "execution_count": 2,
   "metadata": {},
   "outputs": [],
   "source": [
    "#| hide\n",
    "%reload_ext autoreload\n",
    "%autoreload 2\n",
    "%matplotlib inline"
   ]
  },
  {
   "cell_type": "markdown",
   "metadata": {},
   "source": [
    "# run_grid\n",
    "\n",
    "Setup a multi-fold, multi-parameter experimentation grid via `config` and run `train` for all rows."
   ]
  },
  {
   "cell_type": "code",
   "execution_count": 3,
   "metadata": {},
   "outputs": [],
   "source": [
    "#| export\n",
    "import argparse, os\n",
    "import warnings\n",
    "\n",
    "import pandas as pd\n",
    "from itertools import product\n",
    "\n",
    "from kaggle_comp import config, train_dispatcher, utils, train, create_folds, preprocessing\n",
    "\n",
    "\n",
    "# silence all the HF warnings\n",
    "warnings.simplefilter(\"ignore\")\n",
    "os.environ[\"TOKENIZERS_PARALLELISM\"] = \"false\"\n"
   ]
  },
  {
   "cell_type": "code",
   "execution_count": 4,
   "metadata": {},
   "outputs": [],
   "source": [
    "#| hide_input\n",
    "import pdb\n",
    "from fastcore.test import *"
   ]
  },
  {
   "cell_type": "markdown",
   "metadata": {},
   "source": [
    "## Prepare the grid with a run_id for the current date & time"
   ]
  },
  {
   "cell_type": "code",
   "execution_count": 5,
   "metadata": {},
   "outputs": [],
   "source": [
    "#| export\n",
    "def prep_grid(CFG=config.CFG):\n",
    "    grid_df = pd.DataFrame(list(product(*[getattr(CFG, x) for x in CFG.grid_params])), columns=CFG.grid_params)\n",
    "    grid_df[\"run_id\"] = config.get_run_id()\n",
    "    grid_df = grid_df.rename_axis(\"grid_id\").reset_index()\n",
    "\n",
    "    return grid_df"
   ]
  },
  {
   "cell_type": "code",
   "execution_count": 6,
   "metadata": {},
   "outputs": [
    {
     "data": {
      "text/html": [
       "<div>\n",
       "<style scoped>\n",
       "    .dataframe tbody tr th:only-of-type {\n",
       "        vertical-align: middle;\n",
       "    }\n",
       "\n",
       "    .dataframe tbody tr th {\n",
       "        vertical-align: top;\n",
       "    }\n",
       "\n",
       "    .dataframe thead th {\n",
       "        text-align: right;\n",
       "    }\n",
       "</style>\n",
       "<table border=\"1\" class=\"dataframe\">\n",
       "  <thead>\n",
       "    <tr style=\"text-align: right;\">\n",
       "      <th></th>\n",
       "      <th>grid_id</th>\n",
       "      <th>experiments</th>\n",
       "      <th>fold</th>\n",
       "      <th>run_id</th>\n",
       "    </tr>\n",
       "  </thead>\n",
       "  <tbody>\n",
       "    <tr>\n",
       "      <th>0</th>\n",
       "      <td>0</td>\n",
       "      <td>blurr_deberta_v3_small</td>\n",
       "      <td>0</td>\n",
       "      <td>2022_11_09_21_33</td>\n",
       "    </tr>\n",
       "  </tbody>\n",
       "</table>\n",
       "</div>"
      ],
      "text/plain": [
       "   grid_id             experiments  fold            run_id\n",
       "0        0  blurr_deberta_v3_small     0  2022_11_09_21_33"
      ]
     },
     "execution_count": 6,
     "metadata": {},
     "output_type": "execute_result"
    }
   ],
   "source": [
    "prep_grid()"
   ]
  },
  {
   "cell_type": "code",
   "execution_count": 7,
   "metadata": {},
   "outputs": [],
   "source": [
    "grid_df = prep_grid()"
   ]
  },
  {
   "cell_type": "code",
   "execution_count": 8,
   "metadata": {},
   "outputs": [
    {
     "data": {
      "text/plain": [
       "str"
      ]
     },
     "execution_count": 8,
     "metadata": {},
     "output_type": "execute_result"
    }
   ],
   "source": [
    "type(grid_df.experiments[0])"
   ]
  },
  {
   "cell_type": "code",
   "execution_count": 9,
   "metadata": {},
   "outputs": [],
   "source": [
    "#| export\n",
    "def run_grid(CFG=config.CFG):\n",
    "\n",
    "    grid_df = prep_grid(CFG)\n",
    "\n",
    "    print(\"This is the experimentation grid:\")\n",
    "    print(grid_df)\n",
    "    print(\"\")\n",
    "\n",
    "    print(\"Preprocessing and creating folds\")\n",
    "    print(\"\")\n",
    "    train_df = create_folds.build_folds(\n",
    "        n_folds=CFG.n_fold,\n",
    "        seed=CFG.random_seed,\n",
    "        subset=CFG.subset,\n",
    "        #strat_feat = CFG.strat_feat,\n",
    "        preprocess = CFG.preprocess,\n",
    "        return_file = True,\n",
    "        save_file = False\n",
    "        )\n",
    "\n",
    "    # def build_folds(\n",
    "    #     ds: str = \"train\",\n",
    "    #     save_pre: bool = False,\n",
    "    #     return_pre: bool = True\n",
    "    # ):\n",
    "\n",
    "    print(\"Training folds\")\n",
    "    print(\"\")\n",
    "    for i in range(len(grid_df)):\n",
    "\n",
    "\n",
    "        # print(f\"train.run_fold(n_fold = {grid_df.fold[i]}, experiment = '{grid_df.experiments[i]}', run_id = '{grid_df.run_id[i]}',\\\n",
    "        #     grid_id = {grid_df.grid_id[i]}, bs = {grid_df.bs[i]}, n_epoch = {grid_df.n_epoch[i]}, seed = {grid_df.random_seed[i]}, subset = {grid_df.subset[i]})\")\n",
    "\n",
    "        train.run_fold(\n",
    "            CFG=CFG,\n",
    "            n_fold=int(grid_df.fold[i]),\n",
    "            experiment_name=str(grid_df.experiments[i]),\n",
    "            run_id=str(grid_df.run_id[i]),\n",
    "            grid_id=int(grid_df.grid_id[i]),\n",
    "            train_data=train_df,\n",
    "        )\n"
   ]
  },
  {
   "cell_type": "code",
   "execution_count": 10,
   "metadata": {},
   "outputs": [],
   "source": [
    "# manual debugging\n",
    "#train.run_fold(CFG = config.CFG, n_fold = 0, experiment_name = 'blurr_distilroberta_base', run_id = '2022_05_21_15_56', grid_id = 0)\n"
   ]
  },
  {
   "cell_type": "markdown",
   "metadata": {},
   "source": [
    "The CFG can be dynamically supplied at runtime:"
   ]
  },
  {
   "cell_type": "markdown",
   "metadata": {},
   "source": [
    "augment: \"none\", \"rev\", \"shuffle\", \"remove_word\""
   ]
  },
  {
   "cell_type": "code",
   "execution_count": 13,
   "metadata": {},
   "outputs": [],
   "source": [
    "class CFG:\n",
    "    subset = 1.0\n",
    "    n_fold = 5\n",
    "    fold = [0, 1]\n",
    "    random_seed = 42\n",
    "    bs = 128\n",
    "    use_fp16 = True\n",
    "    n_unfrozen_epochs = 1\n",
    "    #strat_feat = \"section_scores\"\n",
    "    preprocess = \"basic\"\n",
    "    postprocess = \"none\"\n",
    "    augment = \"none\"\n",
    "    train_folds = \"train_folds.csv\"\n",
    "    experiments = ['blurr_deberta_v3_small']\n",
    "    grid_params = ['experiments', 'fold']\n"
   ]
  },
  {
   "cell_type": "code",
   "execution_count": 14,
   "metadata": {},
   "outputs": [
    {
     "name": "stdout",
     "output_type": "stream",
     "text": [
      "This is the experimentation grid:\n",
      "   grid_id             experiments  fold            run_id\n",
      "0        0  blurr_deberta_v3_small     0  2022_11_09_21_35\n",
      "1        1  blurr_deberta_v3_small     1  2022_11_09_21_35\n",
      "\n",
      "Preprocessing and creating folds\n",
      "\n",
      "Training folds\n",
      "\n",
      "Experiment: blurr_deberta_v3_small\n",
      "Run: 2022_11_09_21_35 | Grid ID: 0 | Fold: 0\n",
      "Training config: f{'comp_trainer_cls': <class 'kaggle_comp.framework_utils.fastai.FastaiCompTrainer'>, 'model_checkpoint': 'microsoft/deberta-v3-small', 'hf_config_kwargs': {'num_labels': 1, 'cls_dropout': 0.15, 'pooler_dropout': 0.15, 'hidden_dropout_prob': 0.05, 'attention_probs_dropout_prob': 0.1, 'layer_norm_eps': 1e-05}, 'hf_tokenizer_kwargs': {}, 'anchor_col': 'anchor', 'target_col': 'target', 'max_length': 140, 'include_labels': True, 'tok_kwargs': {}, 'batch_size': 128, 'adam_beta1': 0.9, 'adam_beta2': 0.995, 'adam_eps': 1e-06, 'weight_decay': 0.01, 'max_grad_norm': None, 'save_best_model': True, 'use_fp16': True, 'n_frozen_epochs': 0, 'frozen_lr': None, 'n_unfrozen_epochs': 10, 'unfrozen_lrs': [6.15e-06, 0.008]}\n",
      "Building HF objects ...\n",
      "Building DataLoaders ...\n",
      "Building Learner ...\n"
     ]
    },
    {
     "ename": "IndexError",
     "evalue": "tuple index out of range",
     "output_type": "error",
     "traceback": [
      "\u001b[0;31m---------------------------------------------------------------------------\u001b[0m",
      "\u001b[0;31mAssertionError\u001b[0m                            Traceback (most recent call last)",
      "File \u001b[0;32m~/miniconda3/envs/kaggle_feedback_ell/lib/python3.9/site-packages/fastai/callback/core.py:60\u001b[0m, in \u001b[0;36mCallback.__call__\u001b[0;34m(self, event_name)\u001b[0m\n\u001b[1;32m     59\u001b[0m \u001b[39mif\u001b[39;00m \u001b[39mself\u001b[39m\u001b[39m.\u001b[39mrun \u001b[39mand\u001b[39;00m _run: \n\u001b[0;32m---> 60\u001b[0m     \u001b[39mtry\u001b[39;00m: res \u001b[39m=\u001b[39m getcallable(\u001b[39mself\u001b[39;49m, event_name)()\n\u001b[1;32m     61\u001b[0m     \u001b[39mexcept\u001b[39;00m (CancelBatchException, CancelBackwardException, CancelEpochException, CancelFitException, CancelStepException, CancelTrainException, CancelValidException): \u001b[39mraise\u001b[39;00m\n",
      "File \u001b[0;32m~/miniconda3/envs/kaggle_feedback_ell/lib/python3.9/site-packages/fastai/callback/tracker.py:38\u001b[0m, in \u001b[0;36mTrackerCallback.before_fit\u001b[0;34m(self)\u001b[0m\n\u001b[1;32m     37\u001b[0m \u001b[39mif\u001b[39;00m \u001b[39mself\u001b[39m\u001b[39m.\u001b[39mreset_on_fit \u001b[39mor\u001b[39;00m \u001b[39mself\u001b[39m\u001b[39m.\u001b[39mbest \u001b[39mis\u001b[39;00m \u001b[39mNone\u001b[39;00m: \u001b[39mself\u001b[39m\u001b[39m.\u001b[39mbest \u001b[39m=\u001b[39m \u001b[39mfloat\u001b[39m(\u001b[39m'\u001b[39m\u001b[39minf\u001b[39m\u001b[39m'\u001b[39m) \u001b[39mif\u001b[39;00m \u001b[39mself\u001b[39m\u001b[39m.\u001b[39mcomp \u001b[39m==\u001b[39m np\u001b[39m.\u001b[39mless \u001b[39melse\u001b[39;00m \u001b[39m-\u001b[39m\u001b[39mfloat\u001b[39m(\u001b[39m'\u001b[39m\u001b[39minf\u001b[39m\u001b[39m'\u001b[39m)\n\u001b[0;32m---> 38\u001b[0m \u001b[39massert\u001b[39;00m \u001b[39mself\u001b[39m\u001b[39m.\u001b[39mmonitor \u001b[39min\u001b[39;00m \u001b[39mself\u001b[39m\u001b[39m.\u001b[39mrecorder\u001b[39m.\u001b[39mmetric_names[\u001b[39m1\u001b[39m:]\n\u001b[1;32m     39\u001b[0m \u001b[39mself\u001b[39m\u001b[39m.\u001b[39midx \u001b[39m=\u001b[39m \u001b[39mlist\u001b[39m(\u001b[39mself\u001b[39m\u001b[39m.\u001b[39mrecorder\u001b[39m.\u001b[39mmetric_names[\u001b[39m1\u001b[39m:])\u001b[39m.\u001b[39mindex(\u001b[39mself\u001b[39m\u001b[39m.\u001b[39mmonitor)\n",
      "\u001b[0;31mAssertionError\u001b[0m: ",
      "\nDuring handling of the above exception, another exception occurred:\n",
      "\u001b[0;31mIndexError\u001b[0m                                Traceback (most recent call last)",
      "Cell \u001b[0;32mIn [14], line 2\u001b[0m\n\u001b[1;32m      1\u001b[0m \u001b[39m# manual debugging\u001b[39;00m\n\u001b[0;32m----> 2\u001b[0m run_grid(CFG)\n",
      "Cell \u001b[0;32mIn [9], line 36\u001b[0m, in \u001b[0;36mrun_grid\u001b[0;34m(CFG)\u001b[0m\n\u001b[1;32m     29\u001b[0m \u001b[39mprint\u001b[39m(\u001b[39m\"\u001b[39m\u001b[39m\"\u001b[39m)\n\u001b[1;32m     30\u001b[0m \u001b[39mfor\u001b[39;00m i \u001b[39min\u001b[39;00m \u001b[39mrange\u001b[39m(\u001b[39mlen\u001b[39m(grid_df)):\n\u001b[1;32m     31\u001b[0m \n\u001b[1;32m     32\u001b[0m \n\u001b[1;32m     33\u001b[0m     \u001b[39m# print(f\"train.run_fold(n_fold = {grid_df.fold[i]}, experiment = '{grid_df.experiments[i]}', run_id = '{grid_df.run_id[i]}',\\\u001b[39;00m\n\u001b[1;32m     34\u001b[0m     \u001b[39m#     grid_id = {grid_df.grid_id[i]}, bs = {grid_df.bs[i]}, n_epoch = {grid_df.n_epoch[i]}, seed = {grid_df.random_seed[i]}, subset = {grid_df.subset[i]})\")\u001b[39;00m\n\u001b[0;32m---> 36\u001b[0m     train\u001b[39m.\u001b[39;49mrun_fold(\n\u001b[1;32m     37\u001b[0m         CFG\u001b[39m=\u001b[39;49mCFG,\n\u001b[1;32m     38\u001b[0m         n_fold\u001b[39m=\u001b[39;49m\u001b[39mint\u001b[39;49m(grid_df\u001b[39m.\u001b[39;49mfold[i]),\n\u001b[1;32m     39\u001b[0m         experiment_name\u001b[39m=\u001b[39;49m\u001b[39mstr\u001b[39;49m(grid_df\u001b[39m.\u001b[39;49mexperiments[i]),\n\u001b[1;32m     40\u001b[0m         run_id\u001b[39m=\u001b[39;49m\u001b[39mstr\u001b[39;49m(grid_df\u001b[39m.\u001b[39;49mrun_id[i]),\n\u001b[1;32m     41\u001b[0m         grid_id\u001b[39m=\u001b[39;49m\u001b[39mint\u001b[39;49m(grid_df\u001b[39m.\u001b[39;49mgrid_id[i]),\n\u001b[1;32m     42\u001b[0m         train_data\u001b[39m=\u001b[39;49mtrain_df,\n\u001b[1;32m     43\u001b[0m     )\n",
      "File \u001b[0;32m~/kaggle_feedback_ell/nbs/kaggle_comp/train.py:49\u001b[0m, in \u001b[0;36mrun_fold\u001b[0;34m(CFG, n_fold, experiment_name, run_id, grid_id, train_data, verbose)\u001b[0m\n\u001b[1;32m     45\u001b[0m     train_df \u001b[39m=\u001b[39m pd\u001b[39m.\u001b[39mread_csv(train_data)\n\u001b[1;32m     47\u001b[0m train_df[\u001b[39m\"\u001b[39m\u001b[39mis_valid\u001b[39m\u001b[39m\"\u001b[39m] \u001b[39m=\u001b[39m train_df[\u001b[39m\"\u001b[39m\u001b[39mk_fold\u001b[39m\u001b[39m\"\u001b[39m] \u001b[39m==\u001b[39m n_fold\n\u001b[0;32m---> 49\u001b[0m log_df, oof_df \u001b[39m=\u001b[39m comp_trainer\u001b[39m.\u001b[39;49mtrain(\n\u001b[1;32m     50\u001b[0m     CFG,\n\u001b[1;32m     51\u001b[0m     train_df,\n\u001b[1;32m     52\u001b[0m     n_fold\u001b[39m=\u001b[39;49mn_fold,\n\u001b[1;32m     53\u001b[0m     run_id\u001b[39m=\u001b[39;49mrun_id,\n\u001b[1;32m     54\u001b[0m     grid_id\u001b[39m=\u001b[39;49mgrid_id,\n\u001b[1;32m     55\u001b[0m     experiment_name\u001b[39m=\u001b[39;49mexperiment_name,\n\u001b[1;32m     56\u001b[0m     verbose\u001b[39m=\u001b[39;49mverbose,\n\u001b[1;32m     57\u001b[0m )\n\u001b[1;32m     59\u001b[0m score \u001b[39m=\u001b[39m utils\u001b[39m.\u001b[39mcomp_metric_score(oof_df\u001b[39m.\u001b[39mpreds, oof_df\u001b[39m.\u001b[39mtargs)\n\u001b[1;32m     61\u001b[0m \u001b[39mif\u001b[39;00m verbose:\n",
      "File \u001b[0;32m~/kaggle_feedback_ell/nbs/kaggle_comp/framework_utils/fastai.py:425\u001b[0m, in \u001b[0;36mFastaiCompTrainer.train\u001b[0;34m(self, CFG, data, experiment_name, n_fold, run_id, grid_id, seed, verbose)\u001b[0m\n\u001b[1;32m    423\u001b[0m     \u001b[39mself\u001b[39m\u001b[39m.\u001b[39mlearn\u001b[39m.\u001b[39munfreeze()\n\u001b[1;32m    424\u001b[0m     set_seed(seed)\n\u001b[0;32m--> 425\u001b[0m     \u001b[39mself\u001b[39;49m\u001b[39m.\u001b[39;49mlearn\u001b[39m.\u001b[39;49mfit_one_cycle(n_unfrozen_epochs, lr_max\u001b[39m=\u001b[39;49m\u001b[39mslice\u001b[39;49m(\u001b[39m*\u001b[39;49munfrozen_lrs), cbs\u001b[39m=\u001b[39;49mfit_cbs)\n\u001b[1;32m    427\u001b[0m \u001b[39m# step 4: log run details and performance on OOF data\u001b[39;00m\n\u001b[1;32m    428\u001b[0m log_df \u001b[39m=\u001b[39m pd\u001b[39m.\u001b[39mDataFrame(\u001b[39mself\u001b[39m\u001b[39m.\u001b[39mlearn\u001b[39m.\u001b[39mrecorder\u001b[39m.\u001b[39mvalues, columns\u001b[39m=\u001b[39m\u001b[39mself\u001b[39m\u001b[39m.\u001b[39mlearn\u001b[39m.\u001b[39mrecorder\u001b[39m.\u001b[39mmetric_names[\u001b[39m1\u001b[39m:\u001b[39m-\u001b[39m\u001b[39m1\u001b[39m])\n",
      "File \u001b[0;32m~/miniconda3/envs/kaggle_feedback_ell/lib/python3.9/site-packages/fastai/callback/schedule.py:119\u001b[0m, in \u001b[0;36mfit_one_cycle\u001b[0;34m(self, n_epoch, lr_max, div, div_final, pct_start, wd, moms, cbs, reset_opt, start_epoch)\u001b[0m\n\u001b[1;32m    116\u001b[0m lr_max \u001b[39m=\u001b[39m np\u001b[39m.\u001b[39marray([h[\u001b[39m'\u001b[39m\u001b[39mlr\u001b[39m\u001b[39m'\u001b[39m] \u001b[39mfor\u001b[39;00m h \u001b[39min\u001b[39;00m \u001b[39mself\u001b[39m\u001b[39m.\u001b[39mopt\u001b[39m.\u001b[39mhypers])\n\u001b[1;32m    117\u001b[0m scheds \u001b[39m=\u001b[39m {\u001b[39m'\u001b[39m\u001b[39mlr\u001b[39m\u001b[39m'\u001b[39m: combined_cos(pct_start, lr_max\u001b[39m/\u001b[39mdiv, lr_max, lr_max\u001b[39m/\u001b[39mdiv_final),\n\u001b[1;32m    118\u001b[0m           \u001b[39m'\u001b[39m\u001b[39mmom\u001b[39m\u001b[39m'\u001b[39m: combined_cos(pct_start, \u001b[39m*\u001b[39m(\u001b[39mself\u001b[39m\u001b[39m.\u001b[39mmoms \u001b[39mif\u001b[39;00m moms \u001b[39mis\u001b[39;00m \u001b[39mNone\u001b[39;00m \u001b[39melse\u001b[39;00m moms))}\n\u001b[0;32m--> 119\u001b[0m \u001b[39mself\u001b[39;49m\u001b[39m.\u001b[39;49mfit(n_epoch, cbs\u001b[39m=\u001b[39;49mParamScheduler(scheds)\u001b[39m+\u001b[39;49mL(cbs), reset_opt\u001b[39m=\u001b[39;49mreset_opt, wd\u001b[39m=\u001b[39;49mwd, start_epoch\u001b[39m=\u001b[39;49mstart_epoch)\n",
      "File \u001b[0;32m~/miniconda3/envs/kaggle_feedback_ell/lib/python3.9/site-packages/fastai/learner.py:256\u001b[0m, in \u001b[0;36mLearner.fit\u001b[0;34m(self, n_epoch, lr, wd, cbs, reset_opt, start_epoch)\u001b[0m\n\u001b[1;32m    254\u001b[0m \u001b[39mself\u001b[39m\u001b[39m.\u001b[39mopt\u001b[39m.\u001b[39mset_hypers(lr\u001b[39m=\u001b[39m\u001b[39mself\u001b[39m\u001b[39m.\u001b[39mlr \u001b[39mif\u001b[39;00m lr \u001b[39mis\u001b[39;00m \u001b[39mNone\u001b[39;00m \u001b[39melse\u001b[39;00m lr)\n\u001b[1;32m    255\u001b[0m \u001b[39mself\u001b[39m\u001b[39m.\u001b[39mn_epoch \u001b[39m=\u001b[39m n_epoch\n\u001b[0;32m--> 256\u001b[0m \u001b[39mself\u001b[39;49m\u001b[39m.\u001b[39;49m_with_events(\u001b[39mself\u001b[39;49m\u001b[39m.\u001b[39;49m_do_fit, \u001b[39m'\u001b[39;49m\u001b[39mfit\u001b[39;49m\u001b[39m'\u001b[39;49m, CancelFitException, \u001b[39mself\u001b[39;49m\u001b[39m.\u001b[39;49m_end_cleanup)\n",
      "File \u001b[0;32m~/miniconda3/envs/kaggle_feedback_ell/lib/python3.9/site-packages/fastai/learner.py:193\u001b[0m, in \u001b[0;36mLearner._with_events\u001b[0;34m(self, f, event_type, ex, final)\u001b[0m\n\u001b[1;32m    192\u001b[0m \u001b[39mdef\u001b[39;00m \u001b[39m_with_events\u001b[39m(\u001b[39mself\u001b[39m, f, event_type, ex, final\u001b[39m=\u001b[39mnoop):\n\u001b[0;32m--> 193\u001b[0m     \u001b[39mtry\u001b[39;00m: \u001b[39mself\u001b[39;49m(\u001b[39mf\u001b[39;49m\u001b[39m'\u001b[39;49m\u001b[39mbefore_\u001b[39;49m\u001b[39m{\u001b[39;49;00mevent_type\u001b[39m}\u001b[39;49;00m\u001b[39m'\u001b[39;49m);  f()\n\u001b[1;32m    194\u001b[0m     \u001b[39mexcept\u001b[39;00m ex: \u001b[39mself\u001b[39m(\u001b[39mf\u001b[39m\u001b[39m'\u001b[39m\u001b[39mafter_cancel_\u001b[39m\u001b[39m{\u001b[39;00mevent_type\u001b[39m}\u001b[39;00m\u001b[39m'\u001b[39m)\n\u001b[1;32m    195\u001b[0m     \u001b[39mself\u001b[39m(\u001b[39mf\u001b[39m\u001b[39m'\u001b[39m\u001b[39mafter_\u001b[39m\u001b[39m{\u001b[39;00mevent_type\u001b[39m}\u001b[39;00m\u001b[39m'\u001b[39m);  final()\n",
      "File \u001b[0;32m~/miniconda3/envs/kaggle_feedback_ell/lib/python3.9/site-packages/fastai/learner.py:171\u001b[0m, in \u001b[0;36mLearner.__call__\u001b[0;34m(self, event_name)\u001b[0m\n\u001b[0;32m--> 171\u001b[0m \u001b[39mdef\u001b[39;00m \u001b[39m__call__\u001b[39m(\u001b[39mself\u001b[39m, event_name): L(event_name)\u001b[39m.\u001b[39;49mmap(\u001b[39mself\u001b[39;49m\u001b[39m.\u001b[39;49m_call_one)\n",
      "File \u001b[0;32m~/miniconda3/envs/kaggle_feedback_ell/lib/python3.9/site-packages/fastcore/foundation.py:156\u001b[0m, in \u001b[0;36mL.map\u001b[0;34m(self, f, gen, *args, **kwargs)\u001b[0m\n\u001b[0;32m--> 156\u001b[0m \u001b[39mdef\u001b[39;00m \u001b[39mmap\u001b[39m(\u001b[39mself\u001b[39m, f, \u001b[39m*\u001b[39margs, gen\u001b[39m=\u001b[39m\u001b[39mFalse\u001b[39;00m, \u001b[39m*\u001b[39m\u001b[39m*\u001b[39mkwargs): \u001b[39mreturn\u001b[39;00m \u001b[39mself\u001b[39m\u001b[39m.\u001b[39m_new(map_ex(\u001b[39mself\u001b[39;49m, f, \u001b[39m*\u001b[39;49margs, gen\u001b[39m=\u001b[39;49mgen, \u001b[39m*\u001b[39;49m\u001b[39m*\u001b[39;49mkwargs))\n",
      "File \u001b[0;32m~/miniconda3/envs/kaggle_feedback_ell/lib/python3.9/site-packages/fastcore/basics.py:840\u001b[0m, in \u001b[0;36mmap_ex\u001b[0;34m(iterable, f, gen, *args, **kwargs)\u001b[0m\n\u001b[1;32m    838\u001b[0m res \u001b[39m=\u001b[39m \u001b[39mmap\u001b[39m(g, iterable)\n\u001b[1;32m    839\u001b[0m \u001b[39mif\u001b[39;00m gen: \u001b[39mreturn\u001b[39;00m res\n\u001b[0;32m--> 840\u001b[0m \u001b[39mreturn\u001b[39;00m \u001b[39mlist\u001b[39;49m(res)\n",
      "File \u001b[0;32m~/miniconda3/envs/kaggle_feedback_ell/lib/python3.9/site-packages/fastcore/basics.py:825\u001b[0m, in \u001b[0;36mbind.__call__\u001b[0;34m(self, *args, **kwargs)\u001b[0m\n\u001b[1;32m    823\u001b[0m     \u001b[39mif\u001b[39;00m \u001b[39misinstance\u001b[39m(v,_Arg): kwargs[k] \u001b[39m=\u001b[39m args\u001b[39m.\u001b[39mpop(v\u001b[39m.\u001b[39mi)\n\u001b[1;32m    824\u001b[0m fargs \u001b[39m=\u001b[39m [args[x\u001b[39m.\u001b[39mi] \u001b[39mif\u001b[39;00m \u001b[39misinstance\u001b[39m(x, _Arg) \u001b[39melse\u001b[39;00m x \u001b[39mfor\u001b[39;00m x \u001b[39min\u001b[39;00m \u001b[39mself\u001b[39m\u001b[39m.\u001b[39mpargs] \u001b[39m+\u001b[39m args[\u001b[39mself\u001b[39m\u001b[39m.\u001b[39mmaxi\u001b[39m+\u001b[39m\u001b[39m1\u001b[39m:]\n\u001b[0;32m--> 825\u001b[0m \u001b[39mreturn\u001b[39;00m \u001b[39mself\u001b[39;49m\u001b[39m.\u001b[39;49mfunc(\u001b[39m*\u001b[39;49mfargs, \u001b[39m*\u001b[39;49m\u001b[39m*\u001b[39;49mkwargs)\n",
      "File \u001b[0;32m~/miniconda3/envs/kaggle_feedback_ell/lib/python3.9/site-packages/fastai/learner.py:175\u001b[0m, in \u001b[0;36mLearner._call_one\u001b[0;34m(self, event_name)\u001b[0m\n\u001b[1;32m    173\u001b[0m \u001b[39mdef\u001b[39;00m \u001b[39m_call_one\u001b[39m(\u001b[39mself\u001b[39m, event_name):\n\u001b[1;32m    174\u001b[0m     \u001b[39mif\u001b[39;00m \u001b[39mnot\u001b[39;00m \u001b[39mhasattr\u001b[39m(event, event_name): \u001b[39mraise\u001b[39;00m \u001b[39mException\u001b[39;00m(\u001b[39mf\u001b[39m\u001b[39m'\u001b[39m\u001b[39mmissing \u001b[39m\u001b[39m{\u001b[39;00mevent_name\u001b[39m}\u001b[39;00m\u001b[39m'\u001b[39m)\n\u001b[0;32m--> 175\u001b[0m     \u001b[39mfor\u001b[39;00m cb \u001b[39min\u001b[39;00m \u001b[39mself\u001b[39m\u001b[39m.\u001b[39mcbs\u001b[39m.\u001b[39msorted(\u001b[39m'\u001b[39m\u001b[39morder\u001b[39m\u001b[39m'\u001b[39m): cb(event_name)\n",
      "File \u001b[0;32m~/miniconda3/envs/kaggle_feedback_ell/lib/python3.9/site-packages/fastai/callback/core.py:62\u001b[0m, in \u001b[0;36mCallback.__call__\u001b[0;34m(self, event_name)\u001b[0m\n\u001b[1;32m     60\u001b[0m     \u001b[39mtry\u001b[39;00m: res \u001b[39m=\u001b[39m getcallable(\u001b[39mself\u001b[39m, event_name)()\n\u001b[1;32m     61\u001b[0m     \u001b[39mexcept\u001b[39;00m (CancelBatchException, CancelBackwardException, CancelEpochException, CancelFitException, CancelStepException, CancelTrainException, CancelValidException): \u001b[39mraise\u001b[39;00m\n\u001b[0;32m---> 62\u001b[0m     \u001b[39mexcept\u001b[39;00m \u001b[39mException\u001b[39;00m \u001b[39mas\u001b[39;00m e: \u001b[39mraise\u001b[39;00m modify_exception(e, \u001b[39mf\u001b[39m\u001b[39m'\u001b[39m\u001b[39mException occured in `\u001b[39m\u001b[39m{\u001b[39;00m\u001b[39mself\u001b[39m\u001b[39m.\u001b[39m\u001b[39m__class__\u001b[39m\u001b[39m.\u001b[39m\u001b[39m__name__\u001b[39m\u001b[39m}\u001b[39;00m\u001b[39m` when calling event `\u001b[39m\u001b[39m{\u001b[39;00mevent_name\u001b[39m}\u001b[39;00m\u001b[39m`:\u001b[39m\u001b[39m\\n\u001b[39;00m\u001b[39m\\t\u001b[39;00m\u001b[39m{\u001b[39;00me\u001b[39m.\u001b[39margs[\u001b[39m0\u001b[39m]\u001b[39m}\u001b[39;00m\u001b[39m'\u001b[39m, replace\u001b[39m=\u001b[39m\u001b[39mTrue\u001b[39;00m)\n\u001b[1;32m     63\u001b[0m \u001b[39mif\u001b[39;00m event_name\u001b[39m==\u001b[39m\u001b[39m'\u001b[39m\u001b[39mafter_fit\u001b[39m\u001b[39m'\u001b[39m: \u001b[39mself\u001b[39m\u001b[39m.\u001b[39mrun\u001b[39m=\u001b[39m\u001b[39mTrue\u001b[39;00m \u001b[39m#Reset self.run to True at each end of fit\u001b[39;00m\n\u001b[1;32m     64\u001b[0m \u001b[39mreturn\u001b[39;00m res\n",
      "\u001b[0;31mIndexError\u001b[0m: tuple index out of range"
     ]
    }
   ],
   "source": [
    "# manual debugging\n",
    "#run_grid(CFG)\n"
   ]
  },
  {
   "cell_type": "code",
   "execution_count": 16,
   "metadata": {},
   "outputs": [],
   "source": [
    "#| export\n",
    "if __name__ == \"__main__\" and utils.run_env != \"local_nb\":\n",
    "    # instantiate argparser\n",
    "    parser = argparse.ArgumentParser()\n",
    "\n",
    "    # define args\n",
    "    parser.add_argument(\"--experiments\", help='experiments to run', type=lambda s: [str(item) for item in s.split(',')], default=config.CFG.experiments)\n",
    "    parser.add_argument(\"--subset\", type=float, default=config.CFG.subset)\n",
    "    #parser.add_argument(\"--strat_feat\", type=str, default=config.CFG.strat_feat)\n",
    "    parser.add_argument(\"--preprocess\", type=str, default=config.CFG.preprocess)\n",
    "    parser.add_argument(\"--n_folds\", type=int, default=config.CFG.n_fold)\n",
    "    parser.add_argument('--fold', help='folds to use', type=lambda s: [int(item) for item in s.split(',')], default=config.CFG.fold)\n",
    "    parser.add_argument(\"--seed\", type=int, default=config.CFG.random_seed)\n",
    "    \n",
    "    args = parser.parse_args()\n",
    "\n",
    "    config.CFG.experiments = args.experiments\n",
    "    config.CFG.subset = args.subset\n",
    "    #config.CFG.strat_feat = args.strat_feat\n",
    "    config.CFG.preprocess = args.preprocess\n",
    "    config.CFG.n_fold = args.n_folds\n",
    "    config.CFG.fold = args.fold\n",
    "    config.CFG.random_seed = args.seed\n",
    "\n",
    "    run_grid(config.CFG)\n"
   ]
  },
  {
   "cell_type": "markdown",
   "metadata": {},
   "source": [
    "## Export -"
   ]
  },
  {
   "cell_type": "code",
   "execution_count": 17,
   "metadata": {},
   "outputs": [],
   "source": [
    "#| hide\n",
    "import nbdev\n",
    "\n",
    "nbdev.nbdev_export()"
   ]
  },
  {
   "cell_type": "code",
   "execution_count": null,
   "metadata": {},
   "outputs": [],
   "source": []
  }
 ],
 "metadata": {
  "kernelspec": {
   "display_name": "Python 3.9.13 ('kaggle_feedback_ell')",
   "language": "python",
   "name": "python3"
  },
  "language_info": {
   "codemirror_mode": {
    "name": "ipython",
    "version": 3
   },
   "file_extension": ".py",
   "mimetype": "text/x-python",
   "name": "python",
   "nbconvert_exporter": "python",
   "pygments_lexer": "ipython3",
   "version": "3.9.13"
  },
  "vscode": {
   "interpreter": {
    "hash": "d2db59df3616dc6bdbad0dc2d7e2b7acca8412ddb42e2b6f3fed3a5dafe0c1bc"
   }
  }
 },
 "nbformat": 4,
 "nbformat_minor": 2
}
