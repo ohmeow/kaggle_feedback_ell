{
 "cells": [
  {
   "cell_type": "code",
   "execution_count": null,
   "metadata": {},
   "outputs": [],
   "source": [
    "#| default_exp train\n",
    "#| default_cls_lvl 3"
   ]
  },
  {
   "cell_type": "code",
   "execution_count": null,
   "metadata": {},
   "outputs": [],
   "source": [
    "#| hide\n",
    "%reload_ext autoreload\n",
    "%autoreload 2\n",
    "%matplotlib inline"
   ]
  },
  {
   "cell_type": "markdown",
   "metadata": {},
   "source": [
    "# train\n",
    "\n",
    "> TODO"
   ]
  },
  {
   "cell_type": "code",
   "execution_count": null,
   "metadata": {},
   "outputs": [],
   "source": [
    "#| export\n",
    "import argparse, os\n",
    "from pathlib import Path\n",
    "import warnings\n",
    "\n",
    "import pandas as pd\n",
    "from transformers import logging\n",
    "\n",
    "from kaggle_comp import config, train_dispatcher, utils\n",
    "from kaggle_comp.config import CFG\n",
    "\n",
    "# silence all the HF warnings\n",
    "warnings.simplefilter(\"ignore\")\n",
    "logging.set_verbosity_error()\n",
    "os.environ[\"TOKENIZERS_PARALLELISM\"] = \"false\"\n"
   ]
  },
  {
   "cell_type": "code",
   "execution_count": null,
   "metadata": {},
   "outputs": [],
   "source": [
    "#| hide_input\n",
    "import pdb\n",
    "from fastcore.test import *"
   ]
  },
  {
   "cell_type": "markdown",
   "metadata": {},
   "source": [
    "## Train a fold"
   ]
  },
  {
   "cell_type": "code",
   "execution_count": null,
   "metadata": {},
   "outputs": [],
   "source": [
    "#| export\n",
    "def run_fold(\n",
    "    CFG,\n",
    "    n_fold: int,\n",
    "    experiment_name: str,\n",
    "    run_id: str,\n",
    "    grid_id: str,\n",
    "    train_data=config.TRAINING_FILE,\n",
    "    verbose: bool = True,\n",
    "):\n",
    "\n",
    "    train_config = train_dispatcher.experiments[experiment_name]\n",
    "    model_name = f\"{experiment_name}_{run_id}_{grid_id}_fold_{n_fold}\"\n",
    "\n",
    "    comp_trainer_cls = train_config[\"comp_trainer_cls\"]\n",
    "    comp_trainer = comp_trainer_cls(\n",
    "        train_config=train_config, model_name=model_name, model_output_path=config.MODEL_OUTPUT, log_output_path=config.LOG_OUTPUT\n",
    "    )\n",
    "\n",
    "    if isinstance(train_data, pd.DataFrame):\n",
    "        train_df = train_data.copy()\n",
    "    else:\n",
    "        train_df = pd.read_csv(train_data)\n",
    "    \n",
    "    train_df[\"is_valid\"] = train_df[\"k_fold\"] == n_fold\n",
    "\n",
    "    log_df, oof_df = comp_trainer.train(\n",
    "        CFG,\n",
    "        train_df,\n",
    "        n_fold=n_fold,\n",
    "        run_id=run_id,\n",
    "        grid_id=grid_id,\n",
    "        experiment_name=experiment_name,\n",
    "        verbose=verbose,\n",
    "    )\n",
    "\n",
    "    oof_preds = oof_df[[col for col in oof_df.columns if col.startswith(\"pred\")]].values\n",
    "    oof_targs = oof_df[[col for col in oof_df.columns if col.startswith(\"targ\")]].values\n",
    "\n",
    "    score = utils.comp_metric_score(oof_preds, oof_targs)\n",
    "\n",
    "    if verbose:\n",
    "        print(\"--- logging results ---\")\n",
    "\n",
    "    log_df.to_csv(Path(config.LOG_OUTPUT) / str(model_name + \".csv\"), index=False)\n",
    "    oof_df.to_csv(Path(config.LOG_OUTPUT) / str(\"oof_\" + model_name + \".csv\"), index=False)\n",
    "\n",
    "    if verbose:\n",
    "        print(f\"Fold={n_fold}, Score={score}\")\n"
   ]
  },
  {
   "cell_type": "code",
   "execution_count": null,
   "metadata": {},
   "outputs": [],
   "source": [
    "#| export\n",
    "if __name__ == \"__main__\" and utils.run_env != \"local_nb\":\n",
    "    # instantiate argparser\n",
    "    parser = argparse.ArgumentParser()\n",
    "\n",
    "    # define args\n",
    "    parser.add_argument(\"--experiment_name\", type=str)\n",
    "    parser.add_argument(\"--n_fold\", type=int, default=0)\n",
    "    parser.add_argument(\"--run_id\", type=str, default=\"dummy\")\n",
    "    parser.add_argument(\"--grid_id\", type=int, default=0)\n",
    "    parser.add_argument(\"--verbose\", type=str, default=True)\n",
    "\n",
    "    # read in args from terminal\n",
    "    args = parser.parse_args()\n",
    "\n",
    "    run_fold(\n",
    "        CFG=CFG,\n",
    "        n_fold=args.n_fold,\n",
    "        experiment_name=args.experiment_name,\n",
    "        run_id=args.run_id,\n",
    "        grid_id=args.grid_id,\n",
    "        train_data=config.TRAINING_FILE,\n",
    "        verbose=args.verbose,\n",
    "    )\n"
   ]
  },
  {
   "cell_type": "code",
   "execution_count": null,
   "metadata": {},
   "outputs": [],
   "source": [
    "class CFG:\n",
    "    subset = 1.0\n",
    "    n_fold = 5\n",
    "    fold = [0, 1]\n",
    "    random_seed = 42\n",
    "    batch_size = 4\n",
    "    use_fp16 = False\n",
    "    n_unfrozen_epochs = 10\n",
    "    #strat_feat = \"section_scores\"\n",
    "    preprocess = \"basic\"\n",
    "    postprocess = \"none\"\n",
    "    augment = \"none\"\n",
    "    train_folds = \"train_folds.csv\"\n",
    "    experiments = ['blurr_deberta_v3_small']\n",
    "    grid_params = ['experiments', 'fold']\n"
   ]
  },
  {
   "cell_type": "code",
   "execution_count": null,
   "metadata": {},
   "outputs": [],
   "source": [
    "# manual debugging check\n",
    "# run_fold(CFG=CFG, n_fold = 0, experiment_name = \"blurr_deberta_v3_small\", run_id = \"2022_01_01_01_01\", grid_id = 0)\n",
    "run_fold(CFG=CFG, n_fold = 0, experiment_name = \"blurr_cocolm_large\", run_id = \"2022_01_01_01_01\", grid_id = 0)"
   ]
  },
  {
   "cell_type": "markdown",
   "metadata": {},
   "source": [
    "## Export -"
   ]
  },
  {
   "cell_type": "code",
   "execution_count": null,
   "metadata": {},
   "outputs": [],
   "source": [
    "#| hide\n",
    "import nbdev\n",
    "\n",
    "nbdev.nbdev_export()"
   ]
  },
  {
   "cell_type": "code",
   "execution_count": null,
   "metadata": {},
   "outputs": [],
   "source": []
  }
 ],
 "metadata": {
  "kernelspec": {
   "display_name": "Python 3.9.13 ('kaggle_feedback_ell')",
   "language": "python",
   "name": "python3"
  }
 },
 "nbformat": 4,
 "nbformat_minor": 2
}
